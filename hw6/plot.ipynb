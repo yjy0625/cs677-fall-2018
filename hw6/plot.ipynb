{
 "cells": [
  {
   "cell_type": "markdown",
   "metadata": {},
   "source": [
    "**Preparation**"
   ]
  },
  {
   "cell_type": "code",
   "execution_count": 1,
   "metadata": {},
   "outputs": [],
   "source": [
    "%matplotlib inline\n",
    "%load_ext autoreload\n",
    "%autoreload 2"
   ]
  },
  {
   "cell_type": "code",
   "execution_count": 2,
   "metadata": {},
   "outputs": [],
   "source": [
    "import pandas as pd\n",
    "from matplotlib import pyplot as plt\n",
    "import numpy as np\n",
    "import os\n",
    "import os.path as osp\n",
    "import pickle\n",
    "import cv2\n",
    "plt.rcParams[\"font.family\"] = \"Times New Roman\""
   ]
  },
  {
   "cell_type": "markdown",
   "metadata": {},
   "source": [
    "**Generate Loss Curve**"
   ]
  },
  {
   "cell_type": "code",
   "execution_count": 3,
   "metadata": {},
   "outputs": [],
   "source": [
    "def vis_loss_curve(filename, data):\n",
    "    plt.figure(figsize=(8, 6))\n",
    "\n",
    "    def smooth_curve(scalars, weight):\n",
    "        last = scalars[0]\n",
    "        smoothed = list()\n",
    "        for point in scalars:\n",
    "            smoothed_val = last * weight + (1 - weight) * point\n",
    "            smoothed.append(smoothed_val)\n",
    "            last = smoothed_val\n",
    "        return smoothed\n",
    "\n",
    "    train_losses = np.transpose(data[:,[0,1]])\n",
    "    plt.plot(train_losses[0], smooth_curve(train_losses[1], 0.95))\n",
    "\n",
    "    val_losses = np.transpose(data[:,[0,2]])\n",
    "    plt.plot(val_losses[0], smooth_curve(val_losses[1], 0.95))\n",
    "\n",
    "    plt.legend(['Training', 'Validation'], loc='upper left')\n",
    "\n",
    "    plt.savefig(filename, bbox_inches='tight')"
   ]
  },
  {
   "cell_type": "code",
   "execution_count": 4,
   "metadata": {},
   "outputs": [
    {
     "data": {
      "image/png": "[encoded data removed]",
      "text/plain": [
       "<matplotlib.figure.Figure at 0x7f888f82a278>"
      ]
     },
     "metadata": {},
     "output_type": "display_data"
    }
   ],
   "source": [
    "df = pd.read_csv('loss_curve.csv')\n",
    "data = df.as_matrix()\n",
    "vis_loss_curve('loss_curve.pdf', data)"
   ]
  },
  {
   "cell_type": "markdown",
   "metadata": {},
   "source": [
    "**Get Success and Failure Examples**"
   ]
  },
  {
   "cell_type": "code",
   "execution_count": 5,
   "metadata": {},
   "outputs": [],
   "source": [
    "train_dir = 'train_dir/kitti_long_bs_1_lr_0.002_20181126-131308'"
   ]
  },
  {
   "cell_type": "code",
   "execution_count": 6,
   "metadata": {},
   "outputs": [],
   "source": [
    "test_logfile = osp.join(train_dir, 'test_result.p')\n",
    "with open(test_logfile, 'rb') as f:\n",
    "    res = pickle.load(f)"
   ]
  },
  {
   "cell_type": "code",
   "execution_count": 7,
   "metadata": {},
   "outputs": [
    {
     "name": "stdout",
     "output_type": "stream",
     "text": [
      "dict_keys(['pred', 'loss', 'tp', 'probs', 'pixel_level_iou', 'fp', 'fn'])\n"
     ]
    }
   ],
   "source": [
    "print(res.keys())"
   ]
  },
  {
   "cell_type": "code",
   "execution_count": 8,
   "metadata": {},
   "outputs": [
    {
     "name": "stdout",
     "output_type": "stream",
     "text": [
      "Testing Loss: 0.238040\n",
      "Testing Pixel-level IOU: 0.850975\n"
     ]
    }
   ],
   "source": [
    "print('Testing Loss: {:3f}'.format(res['loss']))\n",
    "print('Testing Pixel-level IOU: {:3f}'.format(res['pixel_level_iou']))"
   ]
  },
  {
   "cell_type": "code",
   "execution_count": 9,
   "metadata": {},
   "outputs": [],
   "source": [
    "from data_util import load_datasets\n",
    "_, _, dataset_test = load_datasets('data')\n",
    "\n",
    "pred = np.squeeze(res['pred'])[:, :, :]\n",
    "pred = np.stack((pred,)*3, axis=-1) * np.array([0., 0., 1.]) + np.array([1., 0., 0.])\n",
    "\n",
    "images = dataset_test[\"image\"]"
   ]
  },
  {
   "cell_type": "code",
   "execution_count": 10,
   "metadata": {},
   "outputs": [],
   "source": [
    "gt_images = []\n",
    "for image_id in dataset_test['id']:\n",
    "    gt_filename = image_id.split('_')[0] + '_road_' + image_id.split('_')[1]\n",
    "    img = cv2.imread(osp.join('data/gt/test/', gt_filename + '.png'))\n",
    "    img = cv2.cvtColor(img, cv2.COLOR_BGR2RGB)\n",
    "    gt_images.append(img)\n",
    "gt_images = np.stack(gt_images) * 255"
   ]
  },
  {
   "cell_type": "code",
   "execution_count": 11,
   "metadata": {},
   "outputs": [],
   "source": [
    "for ix in range(gt_images.shape[0]):\n",
    "    vis = np.concatenate((images[ix], pred[ix], gt_images[ix]), axis=0)\n",
    "    \n",
    "    # setup figure\n",
    "    fig, ax = plt.subplots(figsize=(12, 12))\n",
    "    im = ax.imshow(vis)\n",
    "\n",
    "    # configure axis ticks\n",
    "    ax.set_yticks((np.arange(3) + 0.5) * gt_images.shape[1])\n",
    "    ax.set_yticklabels(['Image', 'Prediction', 'Ground Truth'], fontsize=24, position=(-0.03, 0))\n",
    "    ax.get_xaxis().set_visible(False)\n",
    "    \n",
    "    fname = osp.join('test_images', 'test_image_' + str(ix) + '.pdf')\n",
    "    plt.savefig(fname, bbox_inches='tight')\n",
    "    plt.close(fig)"
   ]
  },
  {
   "cell_type": "code",
   "execution_count": null,
   "metadata": {},
   "outputs": [],
   "source": []
  }
 ],
 "metadata": {
  "kernelspec": {
   "display_name": "Python 3",
   "language": "python",
   "name": "python3"
  },
  "language_info": {
   "codemirror_mode": {
    "name": "ipython",
    "version": 3
   },
   "file_extension": ".py",
   "mimetype": "text/x-python",
   "name": "python",
   "nbconvert_exporter": "python",
   "pygments_lexer": "ipython3",
   "version": "3.5.2"
  }
 },
 "nbformat": 4,
 "nbformat_minor": 2
}
