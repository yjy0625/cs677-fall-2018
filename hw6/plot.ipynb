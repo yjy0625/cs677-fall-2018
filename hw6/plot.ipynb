{
 "cells": [
  {
   "cell_type": "markdown",
   "metadata": {},
   "source": [
    "**Preparation**"
   ]
  },
  {
   "cell_type": "code",
   "execution_count": 1,
   "metadata": {},
   "outputs": [],
   "source": [
    "%matplotlib inline\n",
    "%load_ext autoreload\n",
    "%autoreload 2"
   ]
  },
  {
   "cell_type": "code",
   "execution_count": 2,
   "metadata": {},
   "outputs": [],
   "source": [
    "import pandas as pd\n",
    "from matplotlib import pyplot as plt\n",
    "import numpy as np\n",
    "import os\n",
    "import os.path as osp\n",
    "import pickle\n",
    "import cv2\n",
    "plt.rcParams[\"font.family\"] = \"Times New Roman\""
   ]
  },
  {
   "cell_type": "markdown",
   "metadata": {},
   "source": [
    "**Generate Loss Curve**"
   ]
  },
  {
   "cell_type": "code",
   "execution_count": 19,
   "metadata": {},
   "outputs": [],
   "source": [
    "def vis_loss_curve(filename, data):\n",
    "    plt.figure(figsize=(8, 6))\n",
    "\n",
    "    def smooth_curve(scalars, weight):\n",
    "        last = scalars[0]\n",
    "        smoothed = list()\n",
    "        for point in scalars:\n",
    "            smoothed_val = last * weight + (1 - weight) * point\n",
    "            smoothed.append(smoothed_val)\n",
    "            last = smoothed_val\n",
    "        return smoothed\n",
    "    \n",
    "    plt.ylim(0.0, 0.7)\n",
    "\n",
    "    train_losses = np.transpose(data[:,[0,1]])\n",
    "    plt.plot(train_losses[0], smooth_curve(train_losses[1], 0.95))\n",
    "\n",
    "    val_losses = np.transpose(data[:,[0,2]])\n",
    "    plt.plot(val_losses[0], smooth_curve(val_losses[1], 0.95))\n",
    "\n",
    "    plt.legend(['Training', 'Validation'], loc='upper left')\n",
    "\n",
    "    plt.savefig(filename, bbox_inches='tight')"
   ]
  },
  {
   "cell_type": "code",
   "execution_count": 23,
   "metadata": {},
   "outputs": [
    {
     "data": {
      "image/png": "[encoded data removed]",
      "text/plain": [
       "<matplotlib.figure.Figure at 0x7f886e3f24e0>"
      ]
     },
     "metadata": {},
     "output_type": "display_data"
    }
   ],
   "source": [
    "df = pd.read_csv('loss_curve_aux.csv')\n",
    "data = df.as_matrix()\n",
    "vis_loss_curve('loss_curve_aux.pdf', data)"
   ]
  },
  {
   "cell_type": "markdown",
   "metadata": {},
   "source": [
    "**Get Success and Failure Examples**"
   ]
  },
  {
   "cell_type": "code",
   "execution_count": 5,
   "metadata": {},
   "outputs": [],
   "source": [
    "train_dir = 'train_dir/kitti_long_bs_1_lr_0.002_20181126-131308'"
   ]
  },
  {
   "cell_type": "code",
   "execution_count": 6,
   "metadata": {},
   "outputs": [],
   "source": [
    "test_logfile = osp.join(train_dir, 'test_result.p')\n",
    "with open(test_logfile, 'rb') as f:\n",
    "    res = pickle.load(f)"
   ]
  },
  {
   "cell_type": "code",
   "execution_count": 7,
   "metadata": {},
   "outputs": [
    {
     "name": "stdout",
     "output_type": "stream",
     "text": [
      "dict_keys(['pred', 'loss', 'tp', 'probs', 'pixel_level_iou', 'fp', 'fn'])\n"
     ]
    }
   ],
   "source": [
    "print(res.keys())"
   ]
  },
  {
   "cell_type": "code",
   "execution_count": 8,
   "metadata": {},
   "outputs": [
    {
     "name": "stdout",
     "output_type": "stream",
     "text": [
      "Testing Loss: 0.238040\n",
      "Testing Pixel-level IOU: 0.850975\n"
     ]
    }
   ],
   "source": [
    "print('Testing Loss: {:3f}'.format(res['loss']))\n",
    "print('Testing Pixel-level IOU: {:3f}'.format(\n",
    "        res['pixel_level_iou']))"
   ]
  },
  {
   "cell_type": "code",
   "execution_count": 9,
   "metadata": {},
   "outputs": [],
   "source": [
    "from data_util import load_datasets\n",
    "_, _, dataset_test = load_datasets('data')\n",
    "\n",
    "pred = np.squeeze(res['pred'])[:, :, :]\n",
    "pred = np.stack((pred,)*3, axis=-1) * np.array([0., 0., 1.]) \\\n",
    "        + np.array([1., 0., 0.])\n",
    "\n",
    "images = dataset_test[\"image\"]"
   ]
  },
  {
   "cell_type": "code",
   "execution_count": 10,
   "metadata": {},
   "outputs": [],
   "source": [
    "gt_images = []\n",
    "for image_id in dataset_test['id']:\n",
    "    gt_filename = image_id.split('_')[0] + '_road_' \\\n",
    "        + image_id.split('_')[1]\n",
    "    img = cv2.imread(osp.join('data/gt/test/', \n",
    "                              gt_filename + '.png'))\n",
    "    img = cv2.cvtColor(img, cv2.COLOR_BGR2RGB)\n",
    "    gt_images.append(img)\n",
    "gt_images = np.stack(gt_images) * 255"
   ]
  },
  {
   "cell_type": "code",
   "execution_count": 26,
   "metadata": {},
   "outputs": [],
   "source": [
    "for ix in range(gt_images.shape[0]):\n",
    "    vis = np.concatenate((images[ix], pred[ix], gt_images[ix]), \n",
    "                         axis=0)\n",
    "    \n",
    "    # setup figure\n",
    "    fig, ax = plt.subplots(figsize=(12, 12))\n",
    "    im = ax.imshow(vis)\n",
    "\n",
    "    # configure axis ticks\n",
    "    ax.set_yticks((np.arange(3) + 0.5) * gt_images.shape[1])\n",
    "    ax.set_yticklabels(['Image', 'Prediction', 'Ground Truth'], \n",
    "                       fontsize=24, position=(-0.03, 0))\n",
    "    ax.get_xaxis().set_visible(False)\n",
    "    \n",
    "    fname = osp.join('test_images', dataset_test[\"id\"][ix] + '.pdf')\n",
    "    plt.savefig(fname, bbox_inches='tight')\n",
    "    plt.close(fig)"
   ]
  },
  {
   "cell_type": "markdown",
   "metadata": {},
   "source": [
    "**Process Per-sample Evaluation Results**"
   ]
  },
  {
   "cell_type": "code",
   "execution_count": 28,
   "metadata": {},
   "outputs": [],
   "source": [
    "filename = 'train_dir/kitti_long_bs_1_lr_0.002_20181126-131308/test_result.txt'"
   ]
  },
  {
   "cell_type": "code",
   "execution_count": 52,
   "metadata": {},
   "outputs": [],
   "source": [
    "with open(filename, 'r') as f:\n",
    "    lines = [line.strip() for line in f.readlines()][3:]\n",
    "losses = [float(line[24:31]) for line in lines]\n",
    "iou = [float(line[38:45]) for line in lines]\n",
    "tp = [int(line[51:56]) for line in lines]\n",
    "fp = [int(line[62:67]) for line in lines]\n",
    "fn = [int(line[73:78]) for line in lines]"
   ]
  },
  {
   "cell_type": "code",
   "execution_count": 59,
   "metadata": {},
   "outputs": [
    {
     "data": {
      "text/plain": [
       "0.85914111111111124"
      ]
     },
     "execution_count": 59,
     "metadata": {},
     "output_type": "execute_result"
    }
   ],
   "source": [
    "np.mean(iou)"
   ]
  },
  {
   "cell_type": "code",
   "execution_count": 54,
   "metadata": {},
   "outputs": [],
   "source": [
    "stats = pd.DataFrame({'ID': dataset_test['id'], 'Loss': losses, 'Pixel-level IOU': iou, 'TP': tp, 'FP': fp, 'FN': fn})"
   ]
  },
  {
   "cell_type": "code",
   "execution_count": 62,
   "metadata": {},
   "outputs": [
    {
     "name": "stdout",
     "output_type": "stream",
     "text": [
      "\\begin{tabular}{lrrrrr}\n",
      "\\toprule\n",
      "         ID &     Loss &  Pixel-level IOU &     TP &     FP &     FN \\\\\n",
      "\\midrule\n",
      "  um\\_000000 &  0.09766 &          0.81856 &  49694 &  10868 &    147 \\\\\n",
      "  um\\_000001 &  0.03833 &          0.92021 &  55946 &   3932 &    919 \\\\\n",
      "  um\\_000002 &  0.01658 &          0.95019 &  51580 &   1864 &    840 \\\\\n",
      "  um\\_000003 &  0.02439 &          0.93414 &  54008 &   2896 &    912 \\\\\n",
      "  um\\_000004 &  0.06576 &          0.91333 &  74043 &   3063 &   3963 \\\\\n",
      "  um\\_000005 &  0.09647 &          0.90868 &  86623 &   4275 &   4430 \\\\\n",
      "  um\\_000006 &  0.04532 &          0.92229 &  57540 &   1847 &   3001 \\\\\n",
      "  um\\_000007 &  0.62205 &          0.83445 &  64775 &    906 &  11945 \\\\\n",
      "  um\\_000008 &  0.02223 &          0.94262 &  58895 &   2609 &    976 \\\\\n",
      "  um\\_000009 &  0.02077 &          0.95580 &  57996 &   1711 &    971 \\\\\n",
      "  um\\_000010 &  0.03691 &          0.94033 &  59205 &    887 &   2870 \\\\\n",
      "  um\\_000011 &  0.47598 &          0.68558 &  54778 &  18400 &   6722 \\\\\n",
      "  um\\_000012 &  0.97590 &          0.75775 &  54849 &   2415 &  15120 \\\\\n",
      "  um\\_000013 &  0.02987 &          0.93325 &  57144 &   2637 &   1450 \\\\\n",
      "  um\\_000014 &  0.01615 &          0.96602 &  62693 &    449 &   1756 \\\\\n",
      " umm\\_000000 &  0.11567 &          0.89711 &  75897 &    706 &   7999 \\\\\n",
      " umm\\_000001 &  0.41592 &          0.78199 &  68781 &   1115 &  18060 \\\\\n",
      " umm\\_000002 &  0.24416 &          0.82573 &  71487 &     91 &  14996 \\\\\n",
      " umm\\_000003 &  0.52204 &          0.84656 &  86386 &     70 &  15587 \\\\\n",
      " umm\\_000004 &  0.25910 &          0.84287 &  88102 &   1337 &  15087 \\\\\n",
      " umm\\_000005 &  0.85548 &          0.79386 &  71675 &    201 &  18411 \\\\\n",
      " umm\\_000006 &  0.18117 &          0.79833 &  46784 &   3178 &   8640 \\\\\n",
      " umm\\_000007 &  0.11625 &          0.83305 &  44769 &   2110 &   6862 \\\\\n",
      " umm\\_000008 &  0.51290 &          0.77335 &  46028 &    601 &  12889 \\\\\n",
      " umm\\_000009 &  0.57455 &          0.76949 &  74098 &    216 &  21981 \\\\\n",
      " umm\\_000010 &  0.10409 &          0.86483 &  63259 &   1018 &   8869 \\\\\n",
      " umm\\_000011 &  0.06149 &          0.88735 &  64734 &   4494 &   3724 \\\\\n",
      " umm\\_000012 &  0.11944 &          0.84335 &  82669 &  14779 &    576 \\\\\n",
      " umm\\_000013 &  0.96600 &          0.77356 &  85724 &   1389 &  23704 \\\\\n",
      " umm\\_000014 &  0.14650 &          0.86768 &  78302 &   2257 &   9684 \\\\\n",
      "  uu\\_000000 &  0.36918 &          0.62658 &  55082 &  31760 &   1067 \\\\\n",
      "  uu\\_000001 &  0.02110 &          0.94064 &  57082 &   2394 &   1208 \\\\\n",
      "  uu\\_000002 &  0.12420 &          0.77943 &  51779 &  12967 &   1686 \\\\\n",
      "  uu\\_000003 &  0.05925 &          0.87779 &  55032 &   4081 &   3581 \\\\\n",
      "  uu\\_000004 &  0.03141 &          0.93958 &  55143 &   1533 &   2013 \\\\\n",
      "  uu\\_000005 &  0.01857 &          0.94947 &  57331 &   2172 &    879 \\\\\n",
      "  uu\\_000006 &  0.35181 &          0.79812 &  66573 &   7717 &   9122 \\\\\n",
      "  uu\\_000007 &  0.35651 &          0.83144 &  68660 &   4847 &   9073 \\\\\n",
      "  uu\\_000008 &  0.10322 &          0.88318 &  76155 &   3866 &   6207 \\\\\n",
      "  uu\\_000009 &  0.13424 &          0.85981 &  68418 &   4022 &   7133 \\\\\n",
      "  uu\\_000010 &  0.66602 &          0.63049 &  48565 &   2435 &  26028 \\\\\n",
      "  uu\\_000011 &  0.66567 &          0.85880 &  55023 &   1183 &   7864 \\\\\n",
      "  uu\\_000012 &  0.01027 &          0.96941 &  55147 &    660 &   1080 \\\\\n",
      "  uu\\_000013 &  0.01186 &          0.96398 &  54495 &   1476 &    560 \\\\\n",
      "  uu\\_000014 &  0.00937 &          0.97032 &  58264 &   1370 &    412 \\\\\n",
      "\\bottomrule\n",
      "\\end{tabular}\n",
      "\n"
     ]
    }
   ],
   "source": [
    "print(stats[['ID', 'Loss', 'Pixel-level IOU', 'TP', 'FP', 'FN']].sort_values(by=['ID']).to_latex(index=False))"
   ]
  },
  {
   "cell_type": "code",
   "execution_count": null,
   "metadata": {},
   "outputs": [],
   "source": []
  }
 ],
 "metadata": {
  "kernelspec": {
   "display_name": "Python 3",
   "language": "python",
   "name": "python3"
  },
  "language_info": {
   "codemirror_mode": {
    "name": "ipython",
    "version": 3
   },
   "file_extension": ".py",
   "mimetype": "text/x-python",
   "name": "python",
   "nbconvert_exporter": "python",
   "pygments_lexer": "ipython3",
   "version": "3.5.2"
  }
 },
 "nbformat": 4,
 "nbformat_minor": 2
}
